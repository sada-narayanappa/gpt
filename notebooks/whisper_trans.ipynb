{
 "cells": [
  {
   "cell_type": "markdown",
   "metadata": {},
   "source": [
    "# Example of Speech to Text\n",
    "\n",
    "This is an example of speech to text modules and using whisper to do transcriptions.\n",
    "\n",
    "In this project we not only transcribe, but also summarize the transcriptions meeting summaries, indeintify speakers etc."
   ]
  },
  {
   "cell_type": "code",
   "execution_count": null,
   "metadata": {},
   "outputs": [],
   "source": [
    "%reload_ext autoreload\n",
    "%autoreload 2"
   ]
  },
  {
   "cell_type": "code",
   "execution_count": 5,
   "metadata": {},
   "outputs": [
    {
     "name": "stderr",
     "output_type": "stream",
     "text": [
      "2024-07-09 16:30:14,771 app.mangorest INFO: ************* MANGO REST API 2.1****************\n"
     ]
    }
   ],
   "source": [
    "#%%writefile \"../whispermod.py\"\n",
    "from mangorest.mango import webapi \n",
    "import colabexts\n",
    "from colabexts import jcommon\n",
    "from pytube import YouTube\n",
    "import whisper,  os, datetime, librosa, io, soundfile, sys, hashlib\n",
    "import threading\n",
    "import numpy as np\n",
    "\n",
    "sys.path.append(\"../..\")\n",
    "sys.path.append(\"..\")\n",
    "\n",
    "model  = None\n",
    "device = \"cpu\"\n",
    "mutex  = threading.Lock()\n",
    "\n",
    "def getmodel():\n",
    "    global model, mutex\n",
    "    \n",
    "    if model is None:\n",
    "        mutex.acquire()\n",
    "        if model is None:\n",
    "            model = whisper.load_model(\"base\")\n",
    "        mutex.release()   \n",
    "    return model\n",
    "\n",
    "def transcribe_file(file =\"/Users/snarayan/Desktop/data/audio/index.mp4\", **kwargs):\n",
    "    result = getmodel().transcribe(file)\n",
    "    return result\n",
    "\n",
    "def splitIntoParas(tr, nLinesPerPara=4):\n",
    "    n= nLinesPerPara\n",
    "    l=tr.get('segments', [])\n",
    "    ret = \"\"\n",
    "    for i,j in enumerate(l[::n]):\n",
    "        a, b = i*n, i*n + n\n",
    "        o = \"\".join([j['text'] for j in l[a:b]])\n",
    "        ret += o.strip() + \"\\n\\n\";\n",
    "        #print(f'{a}-{b} {o} \\n')\n",
    "        \n",
    "    return ret\n",
    "#-----------------------------------------------------------------------------------\n",
    "def who(data, start=0, end=None, **kwargs):\n",
    "    try:\n",
    "        import scribe.notebooks.speaker as speaker\n",
    "        top3, tops = speaker.whoisInAudio1(data, top=3, start=start, end=end, **kwargs  )\n",
    "        ret =  { \n",
    "            'top3'    : \";\".join(top3[::-1]) ,\n",
    "            'topScore': \"\"+str(tops)\n",
    "        }\n",
    "    except Exception as e:\n",
    "        print(\"ERROR: \" , e)\n",
    "        ret = {'top3': \";;\", 'topScore': 0}\n",
    "\n",
    "    return ret\n",
    "# ------------------------------------------------------------------------------\n",
    "def transcribe(fn, offset=0, duration=60*60, detectSpeakers=1, **kwargs):\n",
    "    if (type(fn) == str):\n",
    "        data, sample_rate = librosa.load(fn, offset=offset, duration=duration, mono=True, sr=16000)\n",
    "    else:\n",
    "        content = io.BytesIO(fn)\n",
    "        data, sample_rate = librosa.load(content,sr=16000, mono=True, offset=offset, duration=duration)\n",
    "\n",
    "    ret = getmodel().transcribe(data)\n",
    "    for s in ret.get('segments', []):\n",
    "        s.pop('tokens')\n",
    "        if ( detectSpeakers):\n",
    "            speaker = who(data, s.get('start'), s.get('end'), **kwargs)\n",
    "            s['speakers'] = [speaker]\n",
    "\n",
    "    return ret\n",
    "\n",
    "@webapi(\"/scribe/stt3/\")\n",
    "def transcribe2(request, **kwargs):\n",
    "    for f in request.FILES.getlist('file'):\n",
    "        content = f.read()\n",
    "\n",
    "    ret = transcribe(content, **kwargs)    \n",
    "    print(f\"Transcribed: {ret}\")\n",
    "    return ret\n",
    "\n",
    "@webapi(\"/scribe/convert2wav/\")\n",
    "def convert2wav(request, **kwargs):\n",
    "    for f in request.FILES.getlist('file'):\n",
    "        content = f.read()\n",
    "\n",
    "    content = io.BytesIO(content)\n",
    "    data, sample_rate = librosa.load(content,sr=16000, mono=True, offset=offset, duration=duration)\n",
    "\n",
    "    #offset, duration, file = 0, None, \"/tmp/test1.wav\"\n",
    "    #data, sample_rate = librosa.load(file, offset=offset, duration=duration, mono=True, sr=16000)\n",
    "    ret = io.BytesIO()\n",
    "    soundfile.write(\"/tmp/_tmp.wav\", data, samplerate=16000)\n",
    "    with open(\"/tmp/_tmp.wav\", \"rb\") as f:\n",
    "        ret.write(f.read())\n",
    "    return ret\n",
    "#--------------------------------------------------------------------------------------------------------    \n",
    "test_url = \"https://www.youtube.com/watch?v=DuSDVj9a4WM&list=PLEpvS3HCVQ5_ZlyF1_i-WSwBzLoDLxoc9\"\n",
    "\n",
    "@webapi(\"/scribe/transcribe_youtube/\")\n",
    "def transcribe_youtube( url = test_url , force_download=False, force_transribe=False, **kwargs):    \n",
    "    h = hashlib.md5(url.encode())\n",
    "    file = \"/tmp/\" + str(h.hexdigest()) + \".mp4\"\n",
    "    \n",
    "    if (force_download or not os.path.exists(file)):  \n",
    "        file = YouTube(url).streams.filter(only_audio=True).first().download(filename=file)\n",
    "\n",
    "    print( f\"File: {file}\")\n",
    "    if (force_transribe or not os.path.exists(file +\".txt\")):  \n",
    "        print( f\"Calling transcription: {file}.txt\")\n",
    "        tr = getmodel().transcribe(file)\n",
    "        ret = splitIntoParas(tr)\n",
    "        with open(file +\".txt\", \"w\") as f:\n",
    "            f.write(ret)\n",
    "        with open(file +\".json\", \"w\") as f:\n",
    "            f.write(str(tr))\n",
    "            \n",
    "        transcription = ret\n",
    "    else:\n",
    "        with open(file +\".txt\", \"r\") as f:\n",
    "            transcription = f.read()\n",
    "        \n",
    "    return transcription;\n",
    "\n",
    "#-----------------------------------------------------------------------------------    \n",
    "def process(sysargs):\n",
    "    print(\"Parsing and processing\")\n",
    "    \n",
    "    if (sysargs.url.strip()):\n",
    "        print( f\"Transcribing {sysargs.url}\")\n",
    "        transcribe_youtube(sysargs.url.strip())\n",
    "    \n",
    "#-----------------------------------------------------------------------------------\n",
    "sysargs=None\n",
    "def addargs():\n",
    "    global sysargs\n",
    "    p = argparse.ArgumentParser(f\"{os.path.basename(sys.argv[0])}:\")\n",
    "    p.add_argument('-u', '--url', type=str, default=\"\", help=\"Youtube URL\")\n",
    "    try:\n",
    "        sysargs, unknown=p.parse_known_args(sys.argv[1:])\n",
    "    except argparse.ArgumentError as exc:\n",
    "        print(exc.message )\n",
    "        \n",
    "    if (unknown):\n",
    "        print(\"Unknown options: \", unknown)\n",
    "        #p.print_help()\n",
    "    return sysargs    \n",
    "#-----------------------------------------------------------------------------------\n",
    "if __name__ == '__main__':\n",
    "    if (not colabexts.jcommon.inJupyter()):\n",
    "        t1 = datetime.datetime.now()\n",
    "        sysargs = addargs()\n",
    "        ret = process(sysargs)\n",
    "        t2 = datetime.datetime.now()\n",
    "        print(f\"#All Done in {str(t2-t1)} ***\")\n",
    "    else:\n",
    "        pass\n"
   ]
  },
  {
   "cell_type": "code",
   "execution_count": null,
   "metadata": {
    "scrolled": false
   },
   "outputs": [],
   "source": [
    "url = \"https://www.youtube.com/watch?v=D5gptzuXBiA&list=PLEpvS3HCVQ5_ZlyF1_i-WSwBzLoDLxoc9&index=2\"\n",
    "url = \"https://www.youtube.com/watch?v=i1KLLsDcJrY&list=PLEpvS3HCVQ5_ZlyF1_i-WSwBzLoDLxoc9&index=4\"\n",
    "url = \"https://www.youtube.com/watch?v=kQsxlPHUdts&list=PLEpvS3HCVQ5_ZlyF1_i-WSwBzLoDLxoc9&index=5\"\n",
    "url = \"https://www.youtube.com/watch?v=02o4DjJrbVE&list=PLEpvS3HCVQ5_ZlyF1_i-WSwBzLoDLxoc9&index=6\"\n",
    "url = \"https://www.youtube.com/watch?v=v2lFFNOSX3k&list=PLEpvS3HCVQ5_ZlyF1_i-WSwBzLoDLxoc9&index=7\"\n",
    "#resp=transcribe_youtube(url)\n",
    "\n",
    "#print(resp)"
   ]
  },
  {
   "cell_type": "code",
   "execution_count": 6,
   "metadata": {},
   "outputs": [],
   "source": [
    "import librosa, io\n",
    "\n",
    "offset, duration, fn = 0, None, \"/tmp/test.wav\"\n",
    "\n",
    "if (type(fn) == str):\n",
    "    data, sample_rate = librosa.load(fn, offset=offset, duration=duration, mono=True, sr=16000)\n",
    "else:\n",
    "    content = io.BytesIO(fn)\n",
    "    data, sample_rate = librosa.load(content,sr=16000, mono=True, offset=offset, duration=duration)\n",
    "\n",
    "ret = getmodel().transcribe(data)"
   ]
  },
  {
   "cell_type": "code",
   "execution_count": 7,
   "metadata": {},
   "outputs": [
    {
     "data": {
      "text/plain": [
       "{'text': ' Hello, this is a simple text. This is a simple text.',\n",
       " 'segments': [{'id': 0,\n",
       "   'seek': 0,\n",
       "   'start': 0.0,\n",
       "   'end': 2.0,\n",
       "   'text': ' Hello, this is a simple text.',\n",
       "   'tokens': [50364, 2425, 11, 341, 307, 257, 2199, 2487, 13, 50464],\n",
       "   'temperature': 0.0,\n",
       "   'avg_logprob': -0.45258506975675883,\n",
       "   'compression_ratio': 1.3333333333333333,\n",
       "   'no_speech_prob': 0.017826953902840614},\n",
       "  {'id': 1,\n",
       "   'seek': 0,\n",
       "   'start': 2.0,\n",
       "   'end': 4.0,\n",
       "   'text': ' This is a simple text.',\n",
       "   'tokens': [50464, 639, 307, 257, 2199, 2487, 13, 50564],\n",
       "   'temperature': 0.0,\n",
       "   'avg_logprob': -0.45258506975675883,\n",
       "   'compression_ratio': 1.3333333333333333,\n",
       "   'no_speech_prob': 0.017826953902840614}],\n",
       " 'language': 'en'}"
      ]
     },
     "execution_count": 7,
     "metadata": {},
     "output_type": "execute_result"
    }
   ],
   "source": [
    "ret"
   ]
  },
  {
   "cell_type": "code",
   "execution_count": null,
   "metadata": {},
   "outputs": [],
   "source": [
    "np.__version__"
   ]
  },
  {
   "cell_type": "code",
   "execution_count": null,
   "metadata": {},
   "outputs": [],
   "source": [
    "import sys\n",
    "sys.path.append(\"../:../..\")\n",
    "sys.path.append(\"../..\")\n",
    "import scribe.notebooks.speaker as speaker"
   ]
  },
  {
   "cell_type": "code",
   "execution_count": null,
   "metadata": {},
   "outputs": [],
   "source": [
    "import librosa,  soundfile\n",
    "\n",
    "offset, duration, file = 0, None, \"/tmp/test1.wav\"\n",
    "\n",
    "data, sample_rate = librosa.load(file, offset=offset, duration=duration, mono=True, sr=16000)\n",
    "soundfile.write(file+\".wav\", data, samplerate=16000)"
   ]
  },
  {
   "cell_type": "code",
   "execution_count": null,
   "metadata": {},
   "outputs": [],
   "source": [
    "ret = io.BytesIO()\n",
    "soundfile.write(ret, data, samplerate=16000)\n"
   ]
  },
  {
   "cell_type": "code",
   "execution_count": null,
   "metadata": {},
   "outputs": [],
   "source": [
    "ret = io.BytesIO()\n",
    "with open(\"/tmp/test1.wav\", \"rb\") as f:\n",
    "    ret.write(f.read())\n"
   ]
  }
 ],
 "metadata": {
  "hide_input": false,
  "kernelspec": {
   "display_name": "Python 3",
   "language": "python",
   "name": "python3"
  },
  "language_info": {
   "codemirror_mode": {
    "name": "ipython",
    "version": 3
   },
   "file_extension": ".py",
   "mimetype": "text/x-python",
   "name": "python",
   "nbconvert_exporter": "python",
   "pygments_lexer": "ipython3",
   "version": "3.11.9"
  },
  "toc": {
   "base_numbering": 1,
   "nav_menu": {},
   "number_sections": true,
   "sideBar": true,
   "skip_h1_title": false,
   "title_cell": "Table of Contents",
   "title_sidebar": "Contents",
   "toc_cell": false,
   "toc_position": {},
   "toc_section_display": true,
   "toc_window_display": false
  },
  "vscode": {
   "interpreter": {
    "hash": "dff0aaeeb8ee9738611fdcb903e0426fbcf38bc2d039ac205716a81cc1909598"
   }
  }
 },
 "nbformat": 4,
 "nbformat_minor": 4
}
