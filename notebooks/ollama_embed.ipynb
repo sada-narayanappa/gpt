{
 "cells": [
  {
   "cell_type": "markdown",
   "metadata": {},
   "source": [
    "# Create emebdding\n",
    "\n",
    "Precondition to run the examples:\n",
    "Install and run OLLAMA and pull llama3.2 model"
   ]
  },
  {
   "cell_type": "code",
   "execution_count": null,
   "metadata": {},
   "outputs": [],
   "source": [
    "%reload_ext autoreload\n",
    "%autoreload 2"
   ]
  },
  {
   "cell_type": "code",
   "execution_count": 2,
   "metadata": {},
   "outputs": [
    {
     "name": "stdout",
     "output_type": "stream",
     "text": [
      "Overwriting ../ollama_embed.py\n"
     ]
    }
   ],
   "source": [
    "%%writefile ../ollama_embed.py\n",
    "from elasticsearch import Elasticsearch\n",
    "from typing import Any, Dict, Optional, List\n",
    "\n",
    "# --------------------------------------------------------------------------------\n",
    "import sys, os, ollama, torch, logging,datetime, requests,re, hashlib\n",
    "from ollama import Client\n",
    "from mangorest.mango import webapi\n",
    "    \n",
    "logger = logging.getLogger( \"myapp\" )\n",
    "device = \"cpu\"\n",
    "\n",
    "if (torch.cuda.is_available() ):\n",
    "    device = \"cuda\"\n",
    "elif torch.backends.mps.is_available():\n",
    "    device = \"mps\"\n",
    "\n",
    "OLLAMA_HOST= 'http://127.0.0.1:11434/v1'\n",
    "OPENAI_KEY = \"NO KEY\"\n",
    "\n",
    "sys.path.append(os.path.expanduser(\"~/.django\") )\n",
    "if (os.path.exists(os.path.expanduser(\"~/.django/my_config.py\"))):\n",
    "    import my_config\n",
    "    try:\n",
    "        from my_config import OLLAMA_HOST\n",
    "    except:\n",
    "        pass\n",
    "\n",
    "MODEL= \"ollama3.2\"\n",
    "# --------------------------------------------------------------------------------\n",
    "# Function to get embedding using OLLAMA API\n",
    "# Generate embeddings for a given text using the OLLAMA API.\n",
    "#\n",
    "def get_ollama_embedding(text: str, model: str =MODEL) -> List[float]:\n",
    "    url = \"http://localhost:11434/api/embeddings\"\n",
    "    payload = {\"model\": model, \"prompt\": text}\n",
    "    response = requests.post(url, json=payload)\n",
    "\n",
    "    if response.status_code == 200:\n",
    "        embedding = response.json().get(\"embedding\", [])\n",
    "        return embedding\n",
    "    else:\n",
    "        raise Exception(f\"Failed to get embedding: {response.text}\")\n",
    "\n",
    "#query_embedding = get_ollama_embedding(query_text, model=model )"
   ]
  },
  {
   "cell_type": "code",
   "execution_count": null,
   "metadata": {},
   "outputs": [],
   "source": []
  }
 ],
 "metadata": {
  "kernelspec": {
   "display_name": "py312",
   "language": "python",
   "name": "python3"
  },
  "language_info": {
   "codemirror_mode": {
    "name": "ipython",
    "version": 3
   },
   "file_extension": ".py",
   "mimetype": "text/x-python",
   "name": "python",
   "nbconvert_exporter": "python",
   "pygments_lexer": "ipython3",
   "version": "3.12.7"
  }
 },
 "nbformat": 4,
 "nbformat_minor": 2
}
