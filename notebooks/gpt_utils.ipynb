{
 "cells": [
  {
   "cell_type": "code",
   "execution_count": 4,
   "metadata": {},
   "outputs": [
    {
     "name": "stdout",
     "output_type": "stream",
     "text": [
      "Overwriting ../gpt_utils.py\n"
     ]
    }
   ],
   "source": [
    "%%writefile \"../gpt_utils.py\"\n",
    "#!/usr/bin/env python \n",
    "\n",
    "import sys, os, torch, logging,datetime, httpx,re, hashlib, json, base64\n",
    "from ollama import Client\n",
    "import ollama\n",
    "from mangorest.mango import webapi\n",
    "from openai import OpenAI\n",
    "\n",
    "logger = logging.getLogger( \"gpt\" )\n",
    "#------------------------------------------INITIALIZE LLM Stuff -------------------- \n",
    "device = \"cpu\"\n",
    "if (torch.cuda.is_available() ):\n",
    "    device = \"cuda\"\n",
    "elif torch.backends.mps.is_available():\n",
    "    device = \"mps\"\n",
    "\n",
    "OLLAMA_HOST= 'http://127.0.0.1:11434/v1'\n",
    "OPENAI_KEY = \"NO KEY\"\n",
    "\n",
    "sys.path.append(os.path.expanduser(\"~/.django\") )\n",
    "if (os.path.exists(os.path.expanduser(\"~/.django/my_config.py\"))):\n",
    "    import my_config\n",
    "    try:\n",
    "        from my_config import OLLAMA_HOST\n",
    "        OPENAI_KEY=my_config.OPENAI_KEY\n",
    "    except:\n",
    "        pass\n",
    "#------------------------------------------INITIALIZE the DB-------------------- \n",
    "if \"/opt/utils/geo_utils/\" not in sys.path: sys.path.append(\"/opt/utils/geo_utils/\" )\n",
    "from services.gen.myjson import myjson\n",
    "\n",
    "\"\"\"\n",
    "    Clear GPU memory cache for different platforms.\n",
    "\"\"\"\n",
    "def clear_GPUcache():\n",
    "    try:\n",
    "        if torch.cuda.is_available():\n",
    "            torch.cuda.empty_cache()\n",
    "        elif hasattr(torch.backends, \"mps\") and torch.backends.mps.is_available():\n",
    "            torch.mps.empty_cache()\n",
    "        # CPU doesn't need explicit cache clearing\n",
    "    except Exception as e:\n",
    "        print(f\"Warning: Could not clear cache: {str(e)}\")\n"
   ]
  },
  {
   "cell_type": "code",
   "execution_count": 9,
   "metadata": {},
   "outputs": [],
   "source": [
    "from gpt.gpt_utils import *"
   ]
  },
  {
   "cell_type": "code",
   "execution_count": 12,
   "metadata": {},
   "outputs": [
    {
     "data": {
      "text/plain": [
       "<module 'ollama' from '/Users/e346104/venv/py312/lib/python3.12/site-packages/ollama/__init__.py'>"
      ]
     },
     "execution_count": 12,
     "metadata": {},
     "output_type": "execute_result"
    }
   ],
   "source": [
    "ollama"
   ]
  },
  {
   "cell_type": "code",
   "execution_count": null,
   "metadata": {},
   "outputs": [],
   "source": []
  }
 ],
 "metadata": {
  "kernelspec": {
   "display_name": "py312",
   "language": "python",
   "name": "python3"
  },
  "language_info": {
   "codemirror_mode": {
    "name": "ipython",
    "version": 3
   },
   "file_extension": ".py",
   "mimetype": "text/x-python",
   "name": "python",
   "nbconvert_exporter": "python",
   "pygments_lexer": "ipython3",
   "version": "3.12.7"
  }
 },
 "nbformat": 4,
 "nbformat_minor": 2
}
