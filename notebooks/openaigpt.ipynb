{
 "cells": [
  {
   "cell_type": "code",
   "execution_count": null,
   "metadata": {
    "colab": {
     "base_uri": "https://localhost:8080/"
    },
    "id": "yuzzPHd6gIUQ",
    "outputId": "a34fedfd-7340-43a9-90d7-4952f665db1e"
   },
   "outputs": [],
   "source": [
    "%reload_ext autoreload\n",
    "%autoreload 2"
   ]
  },
  {
   "cell_type": "code",
   "execution_count": 9,
   "metadata": {},
   "outputs": [],
   "source": [
    "#%%writefile \"../openaigpt.py\"\n",
    "from mangorest.mango import webapi\n",
    "import os, sys\n",
    "import openai\n",
    "from openai import OpenAI\n",
    "\n",
    "sys.path.append(\"..\" )\n",
    "sys.path.append(os.path.expanduser(\"~/.django\") )\n",
    "if (os.path.exists(os.path.expanduser(\"~/.django/my_config.py\"))):\n",
    "    import my_config\n",
    "    from my_config import *\n",
    "\n",
    "openai.api_key = my_config.OPENAPI_KEY\n"
   ]
  },
  {
   "cell_type": "markdown",
   "metadata": {},
   "source": [
    "from openai import OpenAI\n",
    "client = OpenAI()\n",
    "completion = client.chat.completions.create(\n",
    "    model=\"gpt-4o\",\n",
    "    messages=[\n",
    "        {\"role\": \"user\", \"content\": \"write a haiku about ai\"}\n",
    "    ]"
   ]
  },
  {
   "cell_type": "code",
   "execution_count": 11,
   "metadata": {},
   "outputs": [
    {
     "ename": "TypeError",
     "evalue": "OpenAI.__init__() takes 1 positional argument but 2 were given",
     "output_type": "error",
     "traceback": [
      "\u001b[0;31m---------------------------------------------------------------------------\u001b[0m",
      "\u001b[0;31mTypeError\u001b[0m                                 Traceback (most recent call last)",
      "Cell \u001b[0;32mIn[11], line 1\u001b[0m\n\u001b[0;32m----> 1\u001b[0m client \u001b[38;5;241m=\u001b[39m \u001b[43mOpenAI\u001b[49m\u001b[43m(\u001b[49m\u001b[43mmy_config\u001b[49m\u001b[38;5;241;43m.\u001b[39;49m\u001b[43mOPENAPI_KEY\u001b[49m\u001b[43m)\u001b[49m\n\u001b[1;32m      2\u001b[0m completion \u001b[38;5;241m=\u001b[39m client\u001b[38;5;241m.\u001b[39mcompletions\u001b[38;5;241m.\u001b[39mcreate(model\u001b[38;5;241m=\u001b[39m\u001b[38;5;124m'\u001b[39m\u001b[38;5;124mcurie\u001b[39m\u001b[38;5;124m'\u001b[39m)\n\u001b[1;32m      3\u001b[0m \u001b[38;5;28mprint\u001b[39m(completion\u001b[38;5;241m.\u001b[39mchoices[\u001b[38;5;241m0\u001b[39m]\u001b[38;5;241m.\u001b[39mtext)\n",
      "\u001b[0;31mTypeError\u001b[0m: OpenAI.__init__() takes 1 positional argument but 2 were given"
     ]
    }
   ],
   "source": [
    "client = OpenAI()\n",
    "completion = client.completions.create(model='curie')\n",
    "print(completion.choices[0].text)\n",
    "print(dict(completion).get('usage'))\n",
    "print(completion.model_dump_json(indent=2))"
   ]
  },
  {
   "cell_type": "code",
   "execution_count": null,
   "metadata": {
    "id": "7EsxxG36STID"
   },
   "outputs": [],
   "source": [
    "\n",
    "response={\n",
    "    \"choices\": [\n",
    "        {\n",
    "        \"finish_reason\": \"stop\",\n",
    "        \"index\": 0,\n",
    "        \"logprobs\": \"null\",\n",
    "        \"text\": \" \\n\\nMy name is Kaitlyn.\"\n",
    "        }\n",
    "    ],\n",
    "    \"created\": 1677042132,\n",
    "    \"id\": \"cmpl-6mbYaLDhuWCyoYMmbGrpDqmmCzPPC\",\n",
    "    \"model\": \"text-davinci-002\",\n",
    "    \"object\": \"text_completion\",\n",
    "    \"usage\": {\n",
    "        \"completion_tokens\": 10,\n",
    "        \"prompt_tokens\": 5,\n",
    "        \"total_tokens\": 15\n",
    "    }\n",
    "}\n",
    "@webapi(\"/gpt/callgpt/\")\n",
    "def callgpt(prompt=\"Hello, my name is\", engine=\"text-davinci-003\", max_tokens=100, t=0.5, **kwargs):\n",
    "    max_tokens = max( 100, int(max_tokens))\n",
    "    response = openai.Completion.create( engine=engine,  prompt=prompt, max_tokens=max_tokens, \n",
    "                                         temperature=t, **kwargs)\n",
    "    return response\n",
    "\n"
   ]
  },
  {
   "cell_type": "markdown",
   "metadata": {},
   "source": [
    "# Experiments"
   ]
  },
  {
   "cell_type": "markdown",
   "metadata": {},
   "source": []
  },
  {
   "cell_type": "code",
   "execution_count": null,
   "metadata": {},
   "outputs": [],
   "source": []
  },
  {
   "cell_type": "code",
   "execution_count": null,
   "metadata": {},
   "outputs": [],
   "source": []
  }
 ],
 "metadata": {
  "accelerator": "GPU",
  "colab": {
   "provenance": []
  },
  "gpuClass": "standard",
  "kernelspec": {
   "display_name": "py39",
   "language": "python",
   "name": "python3"
  },
  "language_info": {
   "codemirror_mode": {
    "name": "ipython",
    "version": 3
   },
   "file_extension": ".py",
   "mimetype": "text/x-python",
   "name": "python",
   "nbconvert_exporter": "python",
   "pygments_lexer": "ipython3",
   "version": "3.11.6"
  },
  "vscode": {
   "interpreter": {
    "hash": "dff0aaeeb8ee9738611fdcb903e0426fbcf38bc2d039ac205716a81cc1909598"
   }
  }
 },
 "nbformat": 4,
 "nbformat_minor": 1
}
