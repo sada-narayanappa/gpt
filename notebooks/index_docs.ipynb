{
 "cells": [
  {
   "cell_type": "markdown",
   "metadata": {},
   "source": [
    "# Index DOCS helper"
   ]
  },
  {
   "cell_type": "code",
   "execution_count": 1,
   "metadata": {
    "colab": {
     "base_uri": "https://localhost:8080/"
    },
    "id": "yuzzPHd6gIUQ",
    "outputId": "a34fedfd-7340-43a9-90d7-4952f665db1e"
   },
   "outputs": [],
   "source": [
    "%reload_ext autoreload\n",
    "%autoreload 2"
   ]
  },
  {
   "cell_type": "markdown",
   "metadata": {},
   "source": [
    "# INDEX DOCS"
   ]
  },
  {
   "cell_type": "code",
   "execution_count": 1,
   "metadata": {},
   "outputs": [
    {
     "name": "stdout",
     "output_type": "stream",
     "text": [
      "Overwriting ../index_docs.py\n"
     ]
    }
   ],
   "source": [
    "%%writefile \"../index_docs.py\"\n",
    "#!/usr/bin/env python \n",
    "\n",
    "import sys, os, torch, logging,datetime, httpx,re, hashlib, json, base64\n",
    "from ollama import Client\n",
    "import ollama\n",
    "from mangorest.mango import webapi\n",
    "from openai import OpenAI\n",
    "\n",
    "logger = logging.getLogger( \"gpt\" )\n",
    "\n",
    "BASE = os.path.expanduser(\"~/data/gpt/\")\n",
    "\n",
    "#------------------------------------------INITIALIZE LLM Stuff -------------------- \n",
    "device = \"cpu\"\n",
    "if (torch.cuda.is_available() ):\n",
    "    device = \"cuda\"\n",
    "elif torch.backends.mps.is_available():\n",
    "    device = \"mps\"\n",
    "\n",
    "OLLAMA_HOST= 'http://127.0.0.1:11434/v1'\n",
    "OPENAI_KEY = \"NO KEY\"\n",
    "\n",
    "sys.path.append(os.path.expanduser(\"~/.django\") )\n",
    "if (os.path.exists(os.path.expanduser(\"~/.django/my_config.py\"))):\n",
    "    import my_config\n",
    "    try:\n",
    "        from my_config import OLLAMA_HOST\n",
    "        OPENAI_KEY=my_config.OPENAI_KEY\n",
    "    except:\n",
    "        pass\n",
    "#------------------------------------------INITIALIZE the DB-------------------- \n",
    "if \"/opt/utils/geo_utils/\" not in sys.path: sys.path.append(\"/opt/utils/geo_utils/\" )\n",
    "from services.gen.myjson import myjson\n",
    "\n",
    "MYDB = myjson(base=BASE, db='INDICES')\n",
    "INDEX_TABLE = \"indexes\"\n",
    "#------------------------------------------------------------------------------------------ \n",
    "@webapi(\"/gpt/getKBs/\")\n",
    "def getKBs(request=None, **kwargs):\n",
    "    df = MYDB.read( INDEX_TABLE, nrows=-500)\n",
    "    ret = {\n",
    "        'columns': [c for c in df.columns],\n",
    "        'values' : df.values.tolist()\n",
    "    }\n",
    "    return ret\n",
    "#------------------------------------------------------------------------------------------ \n",
    "def isValid(file, **kwargs):\n",
    "    return True\n",
    "\n",
    "@webapi(\"/gpt/deleteKB/\")\n",
    "def deleteKB(request=None, rowid=\"-1\", **kwargs):\n",
    "    print(locals())\n",
    "    MYDB.delete(INDEX_TABLE, rowid)\n",
    "    return getKBs()\n",
    "\n",
    "@webapi(\"/gpt/uploadFiles/\")\n",
    "def uploadFiles(request=None, name=\"test\", **kwargs):\n",
    "    ret = \"\"\n",
    "    source_folder=kwargs.get(\"source_folder\", \"\")\n",
    "    if ( request):\n",
    "        for f in request.FILES.getlist('file'):\n",
    "            content = f.read()\n",
    "            if ( not source_folder):\n",
    "                basedir =  f\"{BASE}/{name}-files/\"\n",
    "            else:\n",
    "                basedir =  f\"{BASE}/{source_folder}/\"\n",
    "            os.makedirs(basedir, exist_ok=True)\n",
    "            filename = f\"{basedir}/{str(f)}\"\n",
    "\n",
    "            ret += f\"{filename} => uploading \\n\"\n",
    "            if ( isValid(name, **kwargs)):\n",
    "                with open(filename, \"wb\") as f:\n",
    "                    f.write(content)\n",
    "            \n",
    "    return ret\n",
    "\n",
    "def indexFiles(request, **kwargs):\n",
    "    cmd = \"\"\n",
    "    if (  len(request.FILES) > 0):\n",
    "        v = [kwargs.get(k, \"\") for k in \"source_folder es_url es_user es_pass index_name model\".split()]\n",
    "        v[0] = f\"{BASE}/{v[0]}\"     # Application specif folder\n",
    "\n",
    "        vision_index=kwargs.get(\"vision_index\", \"\")\n",
    "        if ( not vision_index ):\n",
    "            cmd = f\"gpt/db_elastic.py -p {v[0]} -e {v[1]} -u '{v[2]}' -w '{v[3]}' -i {v[4]} -m {v[5]}\"\n",
    "\n",
    "        if ( vision_index ):\n",
    "            cmd = f\"gpt/db_vision.py -p {v[0]} \"\n",
    "            pass\n",
    "\n",
    "    if (cmd):\n",
    "        logger.info(\"Executing \" + cmd)\n",
    "        os.system(cmd + \" &\")\n",
    "\n",
    "\n",
    "@webapi(\"/gpt/createUpdateKB/\")\n",
    "def createUpdateKB(request=None,  **kwargs):\n",
    "    MYDB.create_table(INDEX_TABLE)\n",
    "    df = MYDB.update( INDEX_TABLE, kwargs)\n",
    "\n",
    "    # index_name must be sent\n",
    "    index_name = kwargs.get(\"index_name\")\n",
    "\n",
    "    ret = uploadFiles(request, index_name, **kwargs)            \n",
    "    indexFiles(request, **kwargs)\n",
    "\n",
    "    return getKBs()\n",
    "\n",
    "\n",
    "@webapi(\"/gpt/searchKB/\")\n",
    "def searchKB(request=None,  **kwargs):\n",
    "    import db_elastic, db_vision\n",
    "    keys = \"source_folder query vision_index model\".split()\n",
    "    [path, query, v,model] = [kwargs.get(k, \"\") for k in keys]\n",
    "    path = f\"{BASE}/{path}\"     # Application specif folder\n",
    "\n",
    "    if ( v ):\n",
    "        resp = db_vision.queryVision(query, path, model=model)\n",
    "        ret  = [dict(page_content=resp, metadata=\"None\")]\n",
    "    else:\n",
    "        ret = db_elastic.esSearchIndex(request, **kwargs)\n",
    "\n",
    "    return ret\n",
    "    pass;\n",
    "\n"
   ]
  },
  {
   "cell_type": "markdown",
   "metadata": {},
   "source": [
    "# Test"
   ]
  },
  {
   "cell_type": "code",
   "execution_count": null,
   "metadata": {},
   "outputs": [],
   "source": []
  },
  {
   "cell_type": "code",
   "execution_count": 1,
   "metadata": {},
   "outputs": [
    {
     "data": {
      "text/plain": [
       "('daya-ghjg', 1)"
      ]
     },
     "execution_count": 1,
     "metadata": {},
     "output_type": "execute_result"
    }
   ],
   "source": [
    "import re\n",
    "s = \"daya-<babu>\"\n",
    "re.subn(\"<.*>\", \"ghjg\", s)"
   ]
  },
  {
   "cell_type": "code",
   "execution_count": null,
   "metadata": {},
   "outputs": [],
   "source": []
  }
 ],
 "metadata": {
  "accelerator": "GPU",
  "colab": {
   "provenance": []
  },
  "gpuClass": "standard",
  "kernelspec": {
   "display_name": "py312",
   "language": "python",
   "name": "python3"
  },
  "language_info": {
   "codemirror_mode": {
    "name": "ipython",
    "version": 3
   },
   "file_extension": ".py",
   "mimetype": "text/x-python",
   "name": "python",
   "nbconvert_exporter": "python",
   "pygments_lexer": "ipython3",
   "version": "3.12.7"
  }
 },
 "nbformat": 4,
 "nbformat_minor": 4
}
