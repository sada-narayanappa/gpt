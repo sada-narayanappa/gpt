{
 "cells": [
  {
   "cell_type": "code",
   "execution_count": 3,
   "metadata": {
    "colab": {
     "base_uri": "https://localhost:8080/"
    },
    "id": "yuzzPHd6gIUQ",
    "outputId": "a34fedfd-7340-43a9-90d7-4952f665db1e"
   },
   "outputs": [],
   "source": [
    "%reload_ext autoreload\n",
    "%autoreload 2"
   ]
  },
  {
   "cell_type": "code",
   "execution_count": 5,
   "metadata": {
    "id": "7EsxxG36STID"
   },
   "outputs": [],
   "source": [
    "#%%writefile \"../chatgpt.py\"\n",
    "from django.http import HttpResponse\n",
    "from mangorest.mango import webapi\n",
    "import os, sys\n",
    "import openai\n",
    "sys.path.append(\"..\" )\n",
    "sys.path.append(os.path.expanduser(\"~/.django\") )\n",
    "if (os.path.exists(os.path.expanduser(\"~/.django/my_config.py\"))):\n",
    "    import my_config\n",
    "    from my_config import *\n",
    "\n",
    "openai.api_key = my_config.OPENAPI_KEY\n",
    "\n",
    "#models = openai.Model.list()\n",
    "#print(models)\n",
    "\n",
    "@webapi(\"/gpt/test/\")\n",
    "def test( request, csrfmiddlewaretoken=\"\", **kwargs):\n",
    "    return kwargs\n",
    "\n",
    "response={\n",
    "    \"choices\": [\n",
    "        {\n",
    "        \"finish_reason\": \"stop\",\n",
    "        \"index\": 0,\n",
    "        \"logprobs\": \"null\",\n",
    "        \"text\": \" \\n\\nMy name is Kaitlyn.\"\n",
    "        }\n",
    "    ],\n",
    "    \"created\": 1677042132,\n",
    "    \"id\": \"cmpl-6mbYaLDhuWCyoYMmbGrpDqmmCzPPC\",\n",
    "    \"model\": \"text-davinci-002\",\n",
    "    \"object\": \"text_completion\",\n",
    "    \"usage\": {\n",
    "        \"completion_tokens\": 10,\n",
    "        \"prompt_tokens\": 5,\n",
    "        \"total_tokens\": 15\n",
    "    }\n",
    "}\n",
    "@webapi(\"/gpt/testgpt/\")\n",
    "def test( request, **kwargs):\n",
    "    return response\n",
    "\n",
    "@webapi(\"/gpt/callgpt/\")\n",
    "def callgpt(prompt=\"Hello, my name is\", engine=\"text-davinci-003\", max_tokens=100, t=0.5, **kwargs):\n",
    "    max_tokens = max( 100, int(max_tokens))\n",
    "    response = openai.Completion.create( engine=engine,  prompt=prompt, max_tokens=max_tokens, \n",
    "                                         temperature=t, **kwargs)\n",
    "    return response\n",
    "\n"
   ]
  },
  {
   "cell_type": "code",
   "execution_count": 8,
   "metadata": {},
   "outputs": [
    {
     "data": {
      "text/plain": [
       "<OpenAIObject text_completion id=cmpl-6mcDJadsJUlVMZiWoPzRYdX3giics at 0x7fa7a1463630> JSON: {\n",
       "  \"choices\": [\n",
       "    {\n",
       "      \"finish_reason\": \"stop\",\n",
       "      \"index\": 0,\n",
       "      \"logprobs\": null,\n",
       "      \"text\": \"\\n\\nimport threading \\n\\nmutex = threading.Lock() \\n\\n# acquire mutex \\nmutex.acquire() \\n\\n# do some critical operations \\n\\n# release mutex \\nmutex.release()\"\n",
       "    }\n",
       "  ],\n",
       "  \"created\": 1677044657,\n",
       "  \"id\": \"cmpl-6mcDJadsJUlVMZiWoPzRYdX3giics\",\n",
       "  \"model\": \"text-davinci-003\",\n",
       "  \"object\": \"text_completion\",\n",
       "  \"usage\": {\n",
       "    \"completion_tokens\": 53,\n",
       "    \"prompt_tokens\": 9,\n",
       "    \"total_tokens\": 62\n",
       "  }\n",
       "}"
      ]
     },
     "execution_count": 8,
     "metadata": {},
     "output_type": "execute_result"
    }
   ],
   "source": [
    "resp = callgpt(\"Write a code to call mutex in python\")\n",
    "resp"
   ]
  },
  {
   "cell_type": "code",
   "execution_count": null,
   "metadata": {},
   "outputs": [],
   "source": []
  },
  {
   "cell_type": "code",
   "execution_count": null,
   "metadata": {},
   "outputs": [],
   "source": []
  }
 ],
 "metadata": {
  "accelerator": "GPU",
  "colab": {
   "provenance": []
  },
  "gpuClass": "standard",
  "kernelspec": {
   "display_name": "py39",
   "language": "python",
   "name": "python3"
  },
  "language_info": {
   "codemirror_mode": {
    "name": "ipython",
    "version": 3
   },
   "file_extension": ".py",
   "mimetype": "text/x-python",
   "name": "python",
   "nbconvert_exporter": "python",
   "pygments_lexer": "ipython3",
   "version": "3.8.3"
  },
  "vscode": {
   "interpreter": {
    "hash": "dff0aaeeb8ee9738611fdcb903e0426fbcf38bc2d039ac205716a81cc1909598"
   }
  }
 },
 "nbformat": 4,
 "nbformat_minor": 1
}
