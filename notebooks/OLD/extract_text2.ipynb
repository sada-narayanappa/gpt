{
 "cells": [
  {
   "cell_type": "code",
   "execution_count": 1,
   "metadata": {},
   "outputs": [],
   "source": [
    "%reload_ext autoreload\n",
    "%autoreload 2"
   ]
  },
  {
   "cell_type": "code",
   "execution_count": null,
   "metadata": {},
   "outputs": [],
   "source": [
    "#%%writefile ../extract_text1.py\n",
    "#!/usr/bin/env python\n",
    "\n",
    "import sys, os, logging,datetime, hashlib, pandas as pd\n",
    "#from mangorest.mango import webapi\n",
    "import docx, pdfplumber\n",
    "\n",
    "logger = logging.getLogger( \"geoapp\" )\n",
    "# ------------------------------------------------------------------------------------------\n",
    "def simple(file):\n",
    "    text = []\n",
    "    with pdfplumber.open(file) as doc:\n",
    "        for page in doc.pages:\n",
    "            #lines = page.extract_text_lines()\n",
    "            #txt = \"\\n\".join([l['text'] for l in lines])\n",
    "            txt = page.extract_text_simple()\n",
    "            text.append(txt)\n",
    "\n",
    "    all=\"\\n\".join(text)\n",
    "    return all\n",
    "\n",
    "# ---------------------------------------------------------------------------------------\n",
    "def getchunks(filename):\n",
    "    from gpt.pdf_parser_tools import pdf_parser\n",
    "    from gpt.dataframe_tools import merge_records,metadata_chunks,chunk_dict_to_list, chunks_to_doc_obj\n",
    "    filename = os.path.expanduser(filename)\n",
    "    \n",
    "    record = pdf_parser(filename)\n",
    "    merged = merge_records(record)\n",
    "\n",
    "    docName = os.path.basename(filename)\n",
    "    chunk_dict = metadata_chunks(merged,docName)\n",
    "    chunks = chunk_dict_to_list(chunk_dict)\n",
    "    docs = chunks_to_doc_obj(chunks, docName )\n",
    "    return docs\n",
    "\n",
    "def test():\n",
    "    filename = '~/data/gpt/test-files/HS4_SGS1_V1S7.pdf'\n",
    "    filename = os.path.expanduser(filename)\n",
    "    text= simple(filename)\n",
    "    print(text)\n",
    "\n",
    "    chunks = getchunks(filename)\n",
    "    print (chunks[-1])\n"
   ]
  },
  {
   "cell_type": "code",
   "execution_count": null,
   "metadata": {},
   "outputs": [],
   "source": []
  }
 ],
 "metadata": {
  "kernelspec": {
   "display_name": "py312",
   "language": "python",
   "name": "python3"
  },
  "language_info": {
   "codemirror_mode": {
    "name": "ipython",
    "version": 3
   },
   "file_extension": ".py",
   "mimetype": "text/x-python",
   "name": "python",
   "nbconvert_exporter": "python",
   "pygments_lexer": "ipython3",
   "version": "3.12.7"
  }
 },
 "nbformat": 4,
 "nbformat_minor": 2
}
