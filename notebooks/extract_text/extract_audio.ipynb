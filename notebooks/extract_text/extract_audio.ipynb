{
 "cells": [
  {
   "cell_type": "code",
   "execution_count": 6,
   "metadata": {},
   "outputs": [],
   "source": [
    "%reload_ext autoreload\n",
    "%autoreload 2\n",
    "import os, sys"
   ]
  },
  {
   "cell_type": "code",
   "execution_count": 12,
   "metadata": {},
   "outputs": [
    {
     "name": "stdout",
     "output_type": "stream",
     "text": [
      "\n"
     ]
    }
   ],
   "source": [
    "%%script  echo\n",
    "import os\n",
    "from moviepy.editor import VideoFileClip\n",
    "\n",
    "vid_path = \"/tmp/demovideo.mp4\"\n",
    "aud_path = os.path.join(os.path.dirname(vid_path), 'audio.mp3')\n",
    "\n",
    "# extract mp3 audio file from mp4 video video file\n",
    "print(f\"Extracting audio from {vid_path} and saving to {aud_path}\")\n",
    "clip = VideoFileClip(vid_path)\n",
    "clip.audio.write_audiofile(aud_path)"
   ]
  },
  {
   "cell_type": "code",
   "execution_count": null,
   "metadata": {},
   "outputs": [
    {
     "name": "stdout",
     "output_type": "stream",
     "text": [
      "  0.0 -  18.0 :  Welcome to the demo of TIAM, the T-Tory Intelligent Asset Management System.\n",
      " 18.0 -  21.0 :  Let's start by logging into your account.\n",
      " 21.0 -  26.0 :  The application, TIAM as we will call it, is a persona-based system.\n",
      " 26.0 -  30.0 :  The content displayed may vary based on your persona.\n",
      " 30.0 -  35.0 :  Here I am logged in and my persona is that of a maintenance technician.\n",
      " 35.0 -  39.0 :  The landing page is a 10,000-foot view of the capability\n",
      " 39.0 -  45.0 :  and shows a map of all the production facilities within the Lockheed Martin family of business areas\n",
      " 45.0 -  47.0 :  who have machines connected to the system.\n",
      " 47.0 -  53.0 :  A sample set of key performance indicators and metrics for the machines in TIAM are being displayed.\n",
      " 53.0 -  57.0 :  If we mouse over one location, say Grand Prairie, Texas,\n",
      " 57.0 -  60.0 :  we could drill down to the facilities on the system.\n",
      " 60.0 -  64.0 :  For this demo, we have chosen a single building for MFC.\n",
      " 64.0 -  68.0 :  A sample graphic of the building is displayed with the machines on the network.\n",
      " 68.0 -  75.0 :  As you can see, we have one machine throwing an alert in this facility, Mazzac MZX1001.\n",
      " 75.0 -  80.0 :  If we click on the facility itself, we will drill down to the Operations Control Panel for the building\n",
      " 80.0 -  84.0 :  where key metrics and KPIs are displayed for each machine.\n",
      " 84.0 -  90.0 :  One machine, MZX1001, is throwing an alert saying a spindle failure is imminent.\n",
      " 90.0 -  94.0 :  It is also showing it has a number of recommendations.\n",
      " 94.0 - 100.0 :  If we click on the red arrow, we drill down to the single machine directly to the TITARI console\n",
      "100.0 - 105.0 :  where a diagram of the machine shows the alert as a flashing warning.\n",
      "105.0 - 111.0 :  The right side of the console shows the selected sensor time series data being captured by TITARI.\n",
      "111.0 - 115.0 :  It will show any anomalies detected by the algorithm.\n",
      "115.0 - 118.0 :  Below the machine are sensor and load tracking.\n",
      "118.0 - 124.0 :  On the left side of the console appears the alert and details about the alert as well as a set of recommendations.\n",
      "124.0 - 129.0 :  At the top of the page, the Advisor button opens up the AI Advisor\n",
      "129.0 - 134.0 :  where the user can interact with the advisor and ask questions about the alert\n",
      "134.0 - 140.0 :  and about other things such as, do I have a backup spindle for this machine in inventory?\n",
      "140.0 - 144.0 :  Likewise, the user can also select one or more of the recommendations,\n",
      "144.0 - 150.0 :  creating a new action and assigning it to themselves or another maintenance technician.\n",
      "153.0 - 157.0 :  If we click on the Machine View button at the top of the page,\n",
      "157.0 - 161.0 :  we are taken to that particular machine's page where key metrics are displayed,\n",
      "161.0 - 165.0 :  including utilization, sensor status, and loads.\n",
      "165.0 - 170.0 :  The calendar at the top shows the next date when preventive maintenance activities are scheduled.\n",
      "170.0 - 173.0 :  If we click on the Maintenance History tab,\n",
      "173.0 - 179.0 :  we will see a sample of previously completed maintenance activities, both planned and unplanned.\n",
      "179.0 - 185.0 :  The next tab shows a listing and schedule of planned preventive maintenance activities or downtime.\n",
      "186.0 - 192.0 :  The last tab shows operator notes, a quick and easy way to leave specific notes about a machine.\n",
      "192.0 - 197.0 :  Right now, if a machine is restarted for any reason, there is no record of it,\n",
      "197.0 - 200.0 :  only verbal communication between technicians.\n",
      "200.0 - 204.0 :  From here, we can go to the Overall Maintenance tab at the top of the page.\n",
      "204.0 - 211.0 :  The Work Orders section shows a listing of all work orders both open and closed for machines on the network.\n",
      "211.0 - 215.0 :  Clicking onto the top Work Order for the machine we just identified,\n",
      "215.0 - 221.0 :  the details of that Work Order display below, including date received and estimated repair date.\n",
      "221.0 - 225.0 :  The Schedule tab shows all maintenance activities across all machines scheduled,\n",
      "225.0 - 228.0 :  allowing technicians to plan accordingly.\n",
      "228.0 - 233.0 :  The last tab, Parts Inventory, is a sample listing and amount on hand\n",
      "233.0 - 238.0 :  of key parts for routine maintenance, backups, and major repairs.\n",
      "238.0 - 242.0 :  Users are able to see when stocks are low and if accessible,\n",
      "242.0 - 246.0 :  link out to the Order Management System or website, Granger in this case,\n",
      "246.0 - 248.0 :  to order a new Circuit Breaker.\n",
      "248.0 - 255.0 :  In conclusion, TIAM is designed to be the wrapper around all things related to intelligent factory management\n",
      "255.0 - 260.0 :  and provide a single point of entry for a variety of integrated functionalities.\n",
      "260.0 - 261.0 :  Thank you.\n"
     ]
    }
   ],
   "source": [
    "import whisper\n",
    "model = whisper.load_model(\"small\")\n",
    "options = dict(task=\"translate\", best_of=1, language='en')\n",
    "results = model.transcribe(aud_path, **options)\n",
    "txt =\"\"\n",
    "for t in results['segments']:\n",
    "    o=f\"{t['start']:-5} - {t['end']:5} : {t['text']}\"\n",
    "    txt += o + \"\\n\"\n",
    "    print(o)\n",
    "    \n",
    "trn_path = os.path.join(os.path.dirname(vid_path), 'trans.txt')\n",
    "with open (trn_path, \"w\") as f:\n",
    "    f.write(txt)\n"
   ]
  },
  {
   "cell_type": "markdown",
   "metadata": {},
   "source": [
    "# Python text to speech"
   ]
  },
  {
   "cell_type": "code",
   "execution_count": null,
   "metadata": {},
   "outputs": [
    {
     "name": "stdout",
     "output_type": "stream",
     "text": [
      "Starting now ... 2024-11-06 23:39:27.280202\n",
      "Exception: : Stopper already registered for this runLoop\n"
     ]
    },
    {
     "data": {
      "text/plain": [
       "'/tmp/stream_demo_audio.mp3'"
      ]
     },
     "execution_count": 13,
     "metadata": {},
     "output_type": "execute_result"
    }
   ],
   "source": [
    "import pyttsx3, datetime\n",
    "# Initialize the text-to-speech engine\n",
    "engine = pyttsx3.init()\n",
    "try:\n",
    "    engine.endLoop()\n",
    "except:\n",
    "    pass\n",
    "\n",
    "# Set properties for voice\n",
    "engine.setProperty('rate', 160)  # Speed of speech\n",
    "engine.setProperty('volume', 0.9)  # Volume (0.0 to 1.0)\n",
    "\n",
    "# Text to convert to audio\n",
    "script_text = audiotxt1\n",
    "\n",
    "# Save audio to a file\n",
    "output_path = \"/tmp/stream_demo_audio.mp3\"\n",
    "engine.save_to_file(script_text, output_path)\n",
    "print(\"Starting now ...\", datetime.datetime.now())\n",
    "try:\n",
    "    engine.runAndWait()\n",
    "except Exception as e:\n",
    "    engine.endLoop()\n",
    "    print(\"Exception: :\", e)\n",
    "    \n",
    "\n",
    "output_path"
   ]
  },
  {
   "cell_type": "code",
   "execution_count": 8,
   "metadata": {},
   "outputs": [],
   "source": [
    "engine = pyttsx3.init()\n",
    "engine.endLoop()\n",
    "engine.say('The quick brown fox jumped over the lazy dog.', 'fox')\n",
    "engine.startLoop(False)\n",
    "# engine.iterate() must be called inside Server_Up.start()\n",
    "engine.endLoop()"
   ]
  },
  {
   "cell_type": "code",
   "execution_count": null,
   "metadata": {},
   "outputs": [],
   "source": []
  }
 ],
 "metadata": {
  "kernelspec": {
   "display_name": "py312",
   "language": "python",
   "name": "python3"
  },
  "language_info": {
   "codemirror_mode": {
    "name": "ipython",
    "version": 3
   },
   "file_extension": ".py",
   "mimetype": "text/x-python",
   "name": "python",
   "nbconvert_exporter": "python",
   "pygments_lexer": "ipython3",
   "version": "3.12.4"
  }
 },
 "nbformat": 4,
 "nbformat_minor": 2
}
