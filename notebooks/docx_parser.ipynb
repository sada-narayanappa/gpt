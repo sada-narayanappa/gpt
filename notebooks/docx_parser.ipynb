{
 "cells": [
  {
   "cell_type": "code",
   "execution_count": null,
   "metadata": {},
   "outputs": [],
   "source": [
    "%reload_ext autoreload\n",
    "%autoreload 2\n",
    "import colabexts\n",
    "from colabexts.jcommon import *\n"
   ]
  },
  {
   "cell_type": "code",
   "execution_count": null,
   "metadata": {},
   "outputs": [
    {
     "name": "stdout",
     "output_type": "stream",
     "text": [
      "Heading 1 : Heading 1\n",
      "Heading 2 : An experienced and reliable company\n",
      "Heading 3 : A dependable long-term partner\n",
      "Heading 3 : Example Table\n",
      "Heading 2 : 1.4. Ariane launch vehicle family – History\n",
      "Heading 3 : Ariane 1, 2, 3\n"
     ]
    }
   ],
   "source": [
    "import os, docx, pandas as pd\n",
    "\n",
    "filename= os.path.expanduser(\"~/Desktop/data/LLM/sample1.docx\")\n",
    "doc = docx.Document(filename)\n",
    "\n",
    "\n",
    "def replace_section(doc, section_to_replace, new_text):\n",
    "    for paragraph in doc.paragraphs:\n",
    "        if section_to_replace in paragraph.text:\n",
    "            # Replace the section within the paragraph\n",
    "            paragraph.text = paragraph.text.replace(section_to_replace, new_text)\n",
    "            break  # Assuming only one section needs replacement\n",
    "    return doc\n",
    "\n",
    "# STEP 1\n",
    "tables=[]\n",
    "for table in doc.tables:\n",
    "    data = []\n",
    "    keys = None\n",
    "    for i, row in enumerate(table.rows):\n",
    "        text = (cell.text for cell in row.cells)\n",
    "\n",
    "        if i == 0:\n",
    "            keys = tuple(text)\n",
    "            continue\n",
    "        row_data = dict(zip(keys, text))\n",
    "        data.append(row_data)\n",
    "\n",
    "    df = pd.DataFrame(data)\n",
    "    tables.append(df)\n",
    "\n",
    "# STEP 2: extract text \n",
    "headerStyle = []\n",
    "headerText  = []\n",
    "\n",
    "for p in doc.paragraphs:\n",
    "    if p.style.name != \"Normal\" and \"Paragraph\" not in p.style.name:\n",
    "        headerStyle.append(p.style.name)\n",
    "        headerText.append(p.text)\n",
    "        print(p.style.name + \" : \" + p.text)\n",
    "    else:\n",
    "        pass\n",
    "        #print(\"++\".join(headerStack) + p.text[0:64])\n",
    "\n",
    "    \n"
   ]
  },
  {
   "cell_type": "code",
   "execution_count": 38,
   "metadata": {},
   "outputs": [
    {
     "data": {
      "text/html": [
       "<div>\n",
       "<style scoped>\n",
       "    .dataframe tbody tr th:only-of-type {\n",
       "        vertical-align: middle;\n",
       "    }\n",
       "\n",
       "    .dataframe tbody tr th {\n",
       "        vertical-align: top;\n",
       "    }\n",
       "\n",
       "    .dataframe thead th {\n",
       "        text-align: right;\n",
       "    }\n",
       "</style>\n",
       "<table border=\"1\" class=\"dataframe\">\n",
       "  <thead>\n",
       "    <tr style=\"text-align: right;\">\n",
       "      <th></th>\n",
       "      <th>H1</th>\n",
       "      <th>H2</th>\n",
       "      <th>H3</th>\n",
       "      <th>H4</th>\n",
       "      <th>H5</th>\n",
       "    </tr>\n",
       "  </thead>\n",
       "  <tbody>\n",
       "    <tr>\n",
       "      <th>0</th>\n",
       "      <td>A</td>\n",
       "      <td>B</td>\n",
       "      <td>B</td>\n",
       "      <td>B</td>\n",
       "      <td>B</td>\n",
       "    </tr>\n",
       "    <tr>\n",
       "      <th>1</th>\n",
       "      <td>C</td>\n",
       "      <td>45</td>\n",
       "      <td>767</td>\n",
       "      <td>567</td>\n",
       "      <td>67</td>\n",
       "    </tr>\n",
       "    <tr>\n",
       "      <th>2</th>\n",
       "      <td>7889</td>\n",
       "      <td>8</td>\n",
       "      <td>78</td>\n",
       "      <td>7</td>\n",
       "      <td>7</td>\n",
       "    </tr>\n",
       "  </tbody>\n",
       "</table>\n",
       "</div>"
      ],
      "text/plain": [
       "     H1  H2   H3   H4  H5\n",
       "0     A   B    B    B   B\n",
       "1     C  45  767  567  67\n",
       "2  7889   8   78    7   7"
      ]
     },
     "execution_count": 38,
     "metadata": {},
     "output_type": "execute_result"
    }
   ],
   "source": [
    "tables[0]"
   ]
  },
  {
   "cell_type": "code",
   "execution_count": null,
   "metadata": {},
   "outputs": [],
   "source": []
  }
 ],
 "metadata": {
  "kernelspec": {
   "display_name": "py312",
   "language": "python",
   "name": "python3"
  },
  "language_info": {
   "codemirror_mode": {
    "name": "ipython",
    "version": 3
   },
   "file_extension": ".py",
   "mimetype": "text/x-python",
   "name": "python",
   "nbconvert_exporter": "python",
   "pygments_lexer": "ipython3",
   "version": "3.12.7"
  }
 },
 "nbformat": 4,
 "nbformat_minor": 2
}
