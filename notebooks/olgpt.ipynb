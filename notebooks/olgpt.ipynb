{
 "cells": [
  {
   "cell_type": "code",
   "execution_count": 21,
   "metadata": {
    "colab": {
     "base_uri": "https://localhost:8080/"
    },
    "id": "yuzzPHd6gIUQ",
    "outputId": "a34fedfd-7340-43a9-90d7-4952f665db1e"
   },
   "outputs": [],
   "source": [
    "%reload_ext autoreload\n",
    "%autoreload 2"
   ]
  },
  {
   "cell_type": "markdown",
   "metadata": {},
   "source": [
    "# OpenAI"
   ]
  },
  {
   "cell_type": "code",
   "execution_count": 2,
   "metadata": {},
   "outputs": [
    {
     "name": "stdout",
     "output_type": "stream",
     "text": [
      "ChatCompletionMessage(content='I can provide more specific information! The 2020 World Series was a \"bubble\" series, meaning all games were played within the MLB\\'s COVID-19 neutral site bubble at Dodger Stadium in Los Angeles and Globe Life Field in Arlington, Texas (for the AL team). However, it was ultimately LA Dodgers vs Tampa Bay Rays', refusal=None, role='assistant', audio=None, function_call=None, tool_calls=None)\n"
     ]
    }
   ],
   "source": [
    "#%%writefile \"../openaigpt.py\"\n",
    "import os, sys\n",
    "\n",
    "sys.path.append(os.path.expanduser(\"~/.django\") )\n",
    "import my_config\n",
    "from my_config import *\n",
    "\n",
    "from openai import OpenAI\n",
    "\n",
    "client = OpenAI(\n",
    "    base_url = 'http://localhost:11434/v1',\n",
    "    api_key=my_config.OPENAI_KEY\n",
    ")\n",
    "\n",
    "'''response = client.completions.create(\n",
    "    model=\"llama3.2\",\n",
    "    prompt=\"____\",\n",
    "    max_tokens=256\n",
    ")\n",
    "\n",
    "print(response.choices[0].text)\n",
    "'''\n",
    "\n",
    "completion = client.chat.completions.create(\n",
    "  model = \"llama3.2\",\n",
    "  messages=[\n",
    "    {\"role\": \"system\"    , \"content\": \"You are a helpful assistant.\"},\n",
    "    {\"role\": \"user\"      , \"content\": \"Who won the world series in 2020?\"},\n",
    "    {\"role\": \"assistant\" , \"content\": \"The LA Dodgers won in 2020.\"},\n",
    "    {\"role\": \"user\"      , \"content\": \"Where was it played?\"}\n",
    "  ]\n",
    ")\n",
    "\n",
    "print(completion.choices[0].message)"
   ]
  },
  {
   "cell_type": "markdown",
   "metadata": {},
   "source": [
    "# OLLAMA"
   ]
  },
  {
   "cell_type": "code",
   "execution_count": 39,
   "metadata": {},
   "outputs": [
    {
     "name": "stdout",
     "output_type": "stream",
     "text": [
      "Overwriting ../olgpt.py\n"
     ]
    }
   ],
   "source": [
    "#%%writefile \"../olgpt.py\"\n",
    "import sys, os, ollama, torch, logging,datetime\n",
    "from ollama import Client\n",
    "from mangorest.mango import webapi\n",
    "sys.path.append(os.path.expanduser(\"~/.django\") )\n",
    "from openai import OpenAI\n",
    "    \n",
    "logger = logging.getLogger( \"geoapp\" )\n",
    "\n",
    "device = \"cpu\"\n",
    "if (torch.cuda.is_available() ):\n",
    "    device = \"cuda\"\n",
    "\n",
    "\n",
    "OLLAMA_HOST= 'http://10.0.0.29:11434/v1'\n",
    "\n",
    "if (os.path.exists(os.path.expanduser(\"~/.django/my_config.py\"))):\n",
    "    import my_config\n",
    "    try:\n",
    "        from my_config import OLLAMA_HOST\n",
    "    except:\n",
    "        pass\n",
    "\n",
    "client = OpenAI(\n",
    "    base_url = OLLAMA_HOST,\n",
    "    api_key=my_config.OPENAI_KEY\n",
    ")\n",
    "\n",
    "OLLAMA = Client(host=OLLAMA_HOST)\n",
    "logger.info(f\"OLLAMA_HOST => {OLLAMA_HOST}\")\n",
    "#--------------------------------------------------------------------------------------------------------    \n",
    "@webapi(\"/gpt/generate/\")\n",
    "def ollma_generate(request=None, model=\"llama3|mistral\", prompt=\"\", stream=True,**kwargs):\n",
    "    logger.info(f\"Prepping: {datetime.datetime.now()}\")\n",
    "    model = model.split(\"|\")[0].strip()\n",
    "    response = OLLAMA.generate(model=model, prompt=prompt, stream=stream)\n",
    "    # Stream response\n",
    "    ret = \"\"\n",
    "    for chunk in response:\n",
    "        data = chunk[\"response\"]\n",
    "        ret += data\n",
    "        \n",
    "    logger.debug(ret)\n",
    "    return ret\n",
    "\n",
    "#--------------------------------------------------------------------------------------------------------    \n",
    "@webapi(\"/gpt/openai/\")\n",
    "def openai(request=None, model=\"llama3.2|mistral\", host=\"\", use_openai=\"\", prompt=\"\", key=\"\", messages=\"\", **kwargs):\n",
    "\n",
    "    if use_openai or model.startswith('gpt'):\n",
    "         host= \"https://api.openai.com/v1/\"\n",
    "    elif not host:\n",
    "        host = OLLAMA_HOST\n",
    "    \n",
    "    client = OpenAI( base_url = host , api_key = key or my_config.OPENAI_KEY )\n",
    "\n",
    "    tmsg = [\n",
    "                {\"role\": \"system\"    , \"content\": \"You are a helpful assistant.\"},\n",
    "                {\"role\": \"user\"      , \"content\": prompt or \"tell a joke?\"}\n",
    "    ]\n",
    "    \n",
    "    messages = messages or tmsg\n",
    "    model    = model.split(\"|\")[0]\n",
    "    \n",
    "    logger.info(f\"Using host: {host}, {model} : {messages}\")\n",
    "    \n",
    "    completion = client.chat.completions.create(\n",
    "        model = model, #\"llama3.2\",\n",
    "        messages= tmsg\n",
    "        )\n",
    "\n",
    "    ret = completion.choices[0].message\n",
    "    \n",
    "    return ret.content\n"
   ]
  },
  {
   "cell_type": "code",
   "execution_count": 15,
   "metadata": {},
   "outputs": [
    {
     "name": "stderr",
     "output_type": "stream",
     "text": [
      "2024-11-02 11:59:23,107 geoapp INFO: Using host: , llama3.2 : [{'role': 'system', 'content': 'You are a helpful assistant.'}, {'role': 'user', 'content': 'who is Shayma Alkobaisi from UAE'}]\n",
      "2024-11-02 11:59:38,520 httpx INFO: HTTP Request: POST http://127.0.0.1:11434/v1/chat/completions \"HTTP/1.1 200 OK\"\n"
     ]
    },
    {
     "data": {
      "text/plain": [
       "\"I couldn't find much information on a specific person named Shayma Alkobaisi from the UAE. It's possible that she's a private individual or not a public figure, which would explain the lack of available information.\\n\\nHowever, I did find some general information on people with similar names:\\n\\n* Yousef Al-Kobaisi is an Omani footballer who plays as a defender for Sur FC in Oman and has represented his national team.\\n* Khalid Al-Kobaisi is also an Omani footballer who plays as a midfielder.\\n\\nPlease note that without more context or information about Shayma Alkobaisi, it's difficult to provide a specific answer. If you have any additional details, I'll do my best to help.\""
      ]
     },
     "execution_count": 15,
     "metadata": {},
     "output_type": "execute_result"
    }
   ],
   "source": [
    "#ollma_generate(prompt=\"whos is the chief data scientist of Space Lockheed Martin\", stream=True)   \n",
    "q1= \"who is Shayma Alkobaisi from UAE\"\n",
    "q2=\"who won 1996 election\"\n",
    "\n",
    "q=q1\n",
    "openai(prompt=q)"
   ]
  },
  {
   "cell_type": "code",
   "execution_count": 10,
   "metadata": {},
   "outputs": [
    {
     "name": "stderr",
     "output_type": "stream",
     "text": [
      "2024-11-02 11:54:53,562 geoapp INFO: Using host: https://api.openai.com/v1/, gpt-3.5-turbo : [{'role': 'system', 'content': 'You are a helpful assistant.'}, {'role': 'user', 'content': 'who is Shayma Alkobaisi'}]\n",
      "2024-11-02 11:54:53,828 httpx INFO: HTTP Request: POST https://api.openai.com/v1/chat/completions \"HTTP/1.1 429 Too Many Requests\"\n",
      "2024-11-02 11:54:53,829 openai._base_client INFO: Retrying request to /chat/completions in 0.419415 seconds\n",
      "2024-11-02 11:54:55,184 httpx INFO: HTTP Request: POST https://api.openai.com/v1/chat/completions \"HTTP/1.1 200 OK\"\n"
     ]
    },
    {
     "data": {
      "text/plain": [
       "\"I'm sorry, but I couldn't find any relevant information on Shayma Alkobaisi. It is possible that she may not be a public figure or well-known individual. If you have any other questions or need assistance with something else, feel free to ask.\""
      ]
     },
     "execution_count": 10,
     "metadata": {},
     "output_type": "execute_result"
    }
   ],
   "source": [
    "openai(prompt=q, model=\"gpt-3.5-turbo\", host= \"https://api.openai.com/v1/\")"
   ]
  },
  {
   "cell_type": "code",
   "execution_count": 16,
   "metadata": {},
   "outputs": [
    {
     "name": "stderr",
     "output_type": "stream",
     "text": [
      "2024-11-02 11:59:38,564 geoapp INFO: Using host: https://api.openai.com/v1/, gpt-4-0613 : [{'role': 'system', 'content': 'You are a helpful assistant.'}, {'role': 'user', 'content': 'who is Shayma Alkobaisi from UAE'}]\n",
      "2024-11-02 11:59:40,563 httpx INFO: HTTP Request: POST https://api.openai.com/v1/chat/completions \"HTTP/1.1 200 OK\"\n"
     ]
    },
    {
     "data": {
      "text/plain": [
       "\"I'm sorry, but there doesn't seem to be any public information available about a person named Shayma Alkobaisi from UAE. It's possible that you may be referring to a private individual or the spelling might be incorrect. If it's a non-public figure, it wouldn't be appropriate to share personal information about them. If it's a public figure, can you please provide more context or check the spelling of the name?\""
      ]
     },
     "execution_count": 16,
     "metadata": {},
     "output_type": "execute_result"
    }
   ],
   "source": [
    "openai(prompt=q, model=\"gpt-4-0613\", host= \"https://api.openai.com/v1/\")"
   ]
  },
  {
   "cell_type": "markdown",
   "metadata": {},
   "source": [
    "# Experiments"
   ]
  },
  {
   "cell_type": "markdown",
   "metadata": {},
   "source": []
  },
  {
   "cell_type": "code",
   "execution_count": 11,
   "metadata": {},
   "outputs": [],
   "source": [
    "import json\n",
    "fg = '''  \n",
    "messages=[\n",
    "    {\"role\": \"system\"    , \"content\": \"You are a helpful assistant.\"},\n",
    "    {\"role\": \"user\"      , \"content\": \"Who won the world series in 2020?\"},\n",
    "    {\"role\": \"assistant\" , \"content\": \"The LA Dodgers won in 2020.\"},\n",
    "    {\"role\": \"user\"      , \"content\": \"Where was it played?\"}\n",
    "  ]\n",
    "'''\n",
    "\n",
    "#json.loads(fg)"
   ]
  }
 ],
 "metadata": {
  "accelerator": "GPU",
  "colab": {
   "provenance": []
  },
  "gpuClass": "standard",
  "kernelspec": {
   "display_name": "py312",
   "language": "python",
   "name": "python3"
  },
  "language_info": {
   "codemirror_mode": {
    "name": "ipython",
    "version": 3
   },
   "file_extension": ".py",
   "mimetype": "text/x-python",
   "name": "python",
   "nbconvert_exporter": "python",
   "pygments_lexer": "ipython3",
   "version": "3.12.4"
  }
 },
 "nbformat": 4,
 "nbformat_minor": 4
}
